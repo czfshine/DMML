{
 "cells": [
  {
   "cell_type": "code",
   "execution_count": 10,
   "metadata": {},
   "outputs": [],
   "source": [
    "import time\n",
    "\n",
    "outpath=\"./output/submit/\"\n",
    "def createoutputdir():\n",
    "    \n",
    "    t=int(time.time())\n",
    "    path=outpath+\"icdm2018\"+str(t)\n",
    "    os.makedirs(path)\n",
    "    return path+\"/\""
   ]
  },
  {
   "cell_type": "code",
   "execution_count": 14,
   "metadata": {},
   "outputs": [],
   "source": [
    "outpath=createoutputdir()"
   ]
  },
  {
   "cell_type": "code",
   "execution_count": 31,
   "metadata": {},
   "outputs": [],
   "source": [
    "from scipy.misc import imread\n",
    "def predict(imdir):\n",
    "    ims=[i for i in os.listdir(imdir) if i[-3:]==\"png\" ]\n",
    "    ims.sort()\n",
    "    imdata=imread(imdir+ims[-1])[:,:,1]\n",
    "    return imdata"
   ]
  },
  {
   "cell_type": "code",
   "execution_count": 30,
   "metadata": {
    "scrolled": true
   },
   "outputs": [
    {
     "name": "stderr",
     "output_type": "stream",
     "text": [
      "C:\\anaconda\\envs\\kaggle180629\\lib\\site-packages\\ipykernel_launcher.py:4: DeprecationWarning: `imread` is deprecated!\n",
      "`imread` is deprecated in SciPy 1.0.0, and will be removed in 1.2.0.\n",
      "Use ``imageio.imread`` instead.\n",
      "  after removing the cwd from sys.path.\n",
      "C:\\anaconda\\envs\\kaggle180629\\lib\\site-packages\\ipykernel_launcher.py:11: DeprecationWarning: `imsave` is deprecated!\n",
      "`imsave` is deprecated in SciPy 1.0.0, and will be removed in 1.2.0.\n",
      "Use ``imageio.imwrite`` instead.\n",
      "  # This is added back by InteractiveShellApp.init_path()\n"
     ]
    }
   ],
   "source": [
    "dirr='M:/dataset/SRAD2018/RAD_206482414212530/'\n",
    "\n",
    "import scipy.misc\n",
    "def predictaandsave(dirr):\n",
    "    try:\n",
    "        os.makedirs(outpath+dirr[-20:-1])\n",
    "    except:\n",
    "        pass\n",
    "    out=predict(dirr)\n",
    "    for i in range(1,7):\n",
    "        scipy.misc.imsave(outpath+dirr[-20:-1]+\"/\"+dirr[-20:-1]+'_f00'+str(i)+'.png', out)\n",
    "predictaandsave(dirr)"
   ]
  },
  {
   "cell_type": "code",
   "execution_count": 32,
   "metadata": {},
   "outputs": [],
   "source": [
    "testdatapath='M:/dataset/SRAD2018TEST1/'"
   ]
  },
  {
   "cell_type": "code",
   "execution_count": 33,
   "metadata": {},
   "outputs": [
    {
     "name": "stderr",
     "output_type": "stream",
     "text": [
      "C:\\anaconda\\envs\\kaggle180629\\lib\\site-packages\\ipykernel_launcher.py:5: DeprecationWarning: `imread` is deprecated!\n",
      "`imread` is deprecated in SciPy 1.0.0, and will be removed in 1.2.0.\n",
      "Use ``imageio.imread`` instead.\n",
      "  \"\"\"\n",
      "C:\\anaconda\\envs\\kaggle180629\\lib\\site-packages\\ipykernel_launcher.py:11: DeprecationWarning: `imsave` is deprecated!\n",
      "`imsave` is deprecated in SciPy 1.0.0, and will be removed in 1.2.0.\n",
      "Use ``imageio.imwrite`` instead.\n",
      "  # This is added back by InteractiveShellApp.init_path()\n"
     ]
    }
   ],
   "source": [
    "outpath=createoutputdir()\n",
    "for f in os.listdir(testdatapath):\n",
    "    try:\n",
    "        dirr=testdatapath+f+\"/\"\n",
    "        predictaandsave(dirr)\n",
    "    except:\n",
    "        pass"
   ]
  },
  {
   "cell_type": "code",
   "execution_count": null,
   "metadata": {},
   "outputs": [],
   "source": []
  }
 ],
 "metadata": {
  "kernelspec": {
   "display_name": "Python 3",
   "language": "python",
   "name": "python3"
  },
  "language_info": {
   "codemirror_mode": {
    "name": "ipython",
    "version": 3
   },
   "file_extension": ".py",
   "mimetype": "text/x-python",
   "name": "python",
   "nbconvert_exporter": "python",
   "pygments_lexer": "ipython3",
   "version": "3.6.5"
  }
 },
 "nbformat": 4,
 "nbformat_minor": 2
}

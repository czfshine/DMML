{
 "cells": [
  {
   "cell_type": "markdown",
   "metadata": {},
   "source": [
    "# ID3 算法"
   ]
  },
  {
   "cell_type": "markdown",
   "metadata": {},
   "source": [
    "## 算法步骤\n",
    "\n",
    "对于一个数据集,生成节点的算法如下：\n",
    "* 1.如果没有属性就采用多数表决\n",
    "* 2.如果属于同一个类，则算法停止，使用该标记做分类 \n",
    "* 3.根据最大信息增益的属性划分子数据集，对每个数据集生成子节点\n",
    "\n",
    "代码实现如下："
   ]
  },
  {
   "cell_type": "code",
   "execution_count": 1,
   "metadata": {},
   "outputs": [],
   "source": [
    "import pandas as pd\n",
    "import numpy as np"
   ]
  },
  {
   "cell_type": "code",
   "execution_count": 28,
   "metadata": {},
   "outputs": [],
   "source": [
    "def gTree(df):\n",
    "    print(df)\n",
    "    if(ispure(df)): #无属性\n",
    "        return gPureNode(df)\n",
    "    \n",
    "    if(issame(df)): #同一类\n",
    "        return gSameNode(df)\n",
    "        \n",
    "    maxindex=getMaxIndex(df)\n",
    "    # 划分\n",
    "    subdfs=df.groupby(maxindex)\n",
    "    \n",
    "    #生成节点和子节点\n",
    "    node={}\n",
    "    node[\"分组属性\"]=maxindex\n",
    "    node[\"子节点\"]=[]\n",
    "    for subdf in subdfs:\n",
    "        sdf=subdf[1]\n",
    "        sdf.pop(maxindex)\n",
    "        node[\"子节点\"].append(gTree(sdf))\n",
    "        \n",
    "    return node"
   ]
  },
  {
   "cell_type": "markdown",
   "metadata": {},
   "source": [
    "可以看到代码的逻辑基本和算法描述一样，接下来一个一个实现功能函数就行\n",
    "\n",
    "判断是不是空属性和多数表决比较简单："
   ]
  },
  {
   "cell_type": "code",
   "execution_count": 29,
   "metadata": {},
   "outputs": [
    {
     "name": "stdout",
     "output_type": "stream",
     "text": [
      "False\n",
      "True\n"
     ]
    }
   ],
   "source": [
    "def ispure(df):\n",
    "    return df.shape[1]==1\n",
    "print(ispure(pd.DataFrame(np.zeros((3,10)))))\n",
    "print(ispure(pd.DataFrame(np.zeros((3,1)))))"
   ]
  },
  {
   "cell_type": "code",
   "execution_count": 30,
   "metadata": {},
   "outputs": [
    {
     "data": {
      "text/plain": [
       "(1, 1, 2)"
      ]
     },
     "execution_count": 30,
     "metadata": {},
     "output_type": "execute_result"
    }
   ],
   "source": [
    "def maxType(df):\n",
    "    \"\"\"\n",
    "    多数表决\n",
    "    实现得不够优雅\n",
    "    \"\"\"\n",
    "    maxcount=-1\n",
    "    maxtype=None\n",
    "    for sdf in df.groupby(df.columns[0]):\n",
    "        if(sdf[1].count()[0] >maxcount):\n",
    "            maxcount=sdf[1].count()[0]\n",
    "            maxtype=sdf[0]\n",
    "    return maxtype\n",
    "(maxType(pd.DataFrame(np.array([1,1,1,1,1,2,2,2,3]).reshape((9,1))))\n",
    ",maxType(pd.DataFrame(np.array([1,1,1,1,2,2,2,2,3]).reshape((9,1))))\n",
    ",maxType(pd.DataFrame(np.array([1,1,1,2,2,2,2,2,3]).reshape((9,1)))))"
   ]
  },
  {
   "cell_type": "code",
   "execution_count": 31,
   "metadata": {},
   "outputs": [
    {
     "data": {
      "text/plain": [
       "(True, False)"
      ]
     },
     "execution_count": 31,
     "metadata": {},
     "output_type": "execute_result"
    }
   ],
   "source": [
    "def issame(df):\n",
    "    return df[df.columns[-1]].unique().size==1\n",
    "(issame(pd.DataFrame(np.array([4,4,4,4,4,4,4,4,4,4,4,4,4,4,4,4,4,4]).reshape(9,2))),\n",
    " issame(pd.DataFrame(np.array([4,4,4,4,4,4,4,4,4,4,4,4,4,4,4,3,4,4]).reshape(9,2))))"
   ]
  },
  {
   "cell_type": "code",
   "execution_count": 41,
   "metadata": {},
   "outputs": [],
   "source": [
    "def gPureNode(df):\n",
    "    types=maxType(df)\n",
    "    node={}\n",
    "    node[\"type\"]=types\n",
    "    return node\n",
    "def gSameNode(df):\n",
    "    types=df[df.columns[-1]].values[0]\n",
    "    node={}\n",
    "    node[\"type\"]=types\n",
    "    return node;"
   ]
  },
  {
   "cell_type": "code",
   "execution_count": 33,
   "metadata": {},
   "outputs": [],
   "source": [
    "def getMaxIndex(df):\n",
    "    if (df.columns.size<=2):\n",
    "        return df.columns[0]\n",
    "    \n",
    "    allindex=df.columns[:-1]\n",
    "    maxindex=allindex[0]\n",
    "    maxp=getP(df,maxindex)\n",
    "    for i in allindex[1:0]:\n",
    "        p=getP(df,maxindex)\n",
    "        if(p<maxp):\n",
    "            maxp=p\n",
    "            maxindex=i\n",
    "    return maxindex"
   ]
  },
  {
   "cell_type": "code",
   "execution_count": 34,
   "metadata": {},
   "outputs": [],
   "source": [
    "names = ['Bob','Jessica','Mary','John','Mel']\n",
    "sex = ['Bob','Jessica','Mary','John','Mel']\n",
    "births = [968, 155, 77, 578, 973]\n",
    "BabyDataSet = list(zip(names,births,sex))\n",
    "df = pd.DataFrame(data = BabyDataSet, columns=['Names', \"sex\",'Births'])"
   ]
  },
  {
   "cell_type": "code",
   "execution_count": 35,
   "metadata": {},
   "outputs": [
    {
     "data": {
      "text/plain": [
       "3"
      ]
     },
     "execution_count": 35,
     "metadata": {},
     "output_type": "execute_result"
    }
   ],
   "source": [
    "df.columns.size"
   ]
  },
  {
   "cell_type": "code",
   "execution_count": 36,
   "metadata": {},
   "outputs": [],
   "source": [
    "from math import log\n",
    "def getP(df,index):\n",
    "    \n",
    "    classname=df.columns[-1]\n",
    "    theP=0.0\n",
    "    allcount=df.shape[0]\n",
    "    for v in df[index].unique():\n",
    "        subdf=df[df[index]==v]\n",
    "        subcount=subdf.shape[0]\n",
    "        subP=0.0\n",
    "        for subclass in subdf[classname].unique():\n",
    "            subclasscount=subdf[subdf[classname]==subclass].shape[0]\n",
    "            p=subclasscount / subcount\n",
    "            subP+= -(p) * log(p,2)\n",
    "            #print(v,subclass,p)\n",
    "       \n",
    "        theP+=(subcount / allcount)*subP\n",
    "    return theP"
   ]
  },
  {
   "cell_type": "code",
   "execution_count": 43,
   "metadata": {},
   "outputs": [],
   "source": [
    "outlook=[1,1,2,3,3,3,2,1,1,3,1,2,2,3]\n",
    "temp=[1,1,1,2,3,3,3,2,3,2,2,2,1,2]\n",
    "hum=[1,1,1,1,2,2,2,1,2,2,2,1,2,1]\n",
    "windy=[0,1,0,0,0,1,1,0,0,0,1,1,0,0]\n",
    "play=[0,0,1,1,1,0,1,0,1,1,1,1,1,0]\n",
    "DataSet = list(zip(outlook,temp,hum,windy,play))\n",
    "playdf = pd.DataFrame(data = DataSet, columns=[\"outlook\",\"temp\",\"hum\",\"windy\",\"play\"])"
   ]
  },
  {
   "cell_type": "code",
   "execution_count": 44,
   "metadata": {},
   "outputs": [
    {
     "data": {
      "text/html": [
       "<div>\n",
       "<style scoped>\n",
       "    .dataframe tbody tr th:only-of-type {\n",
       "        vertical-align: middle;\n",
       "    }\n",
       "\n",
       "    .dataframe tbody tr th {\n",
       "        vertical-align: top;\n",
       "    }\n",
       "\n",
       "    .dataframe thead th {\n",
       "        text-align: right;\n",
       "    }\n",
       "</style>\n",
       "<table border=\"1\" class=\"dataframe\">\n",
       "  <thead>\n",
       "    <tr style=\"text-align: right;\">\n",
       "      <th></th>\n",
       "      <th>outlook</th>\n",
       "      <th>temp</th>\n",
       "      <th>hum</th>\n",
       "      <th>windy</th>\n",
       "      <th>play</th>\n",
       "    </tr>\n",
       "  </thead>\n",
       "  <tbody>\n",
       "    <tr>\n",
       "      <th>0</th>\n",
       "      <td>1</td>\n",
       "      <td>1</td>\n",
       "      <td>1</td>\n",
       "      <td>0</td>\n",
       "      <td>0</td>\n",
       "    </tr>\n",
       "    <tr>\n",
       "      <th>1</th>\n",
       "      <td>1</td>\n",
       "      <td>1</td>\n",
       "      <td>1</td>\n",
       "      <td>1</td>\n",
       "      <td>0</td>\n",
       "    </tr>\n",
       "    <tr>\n",
       "      <th>2</th>\n",
       "      <td>2</td>\n",
       "      <td>1</td>\n",
       "      <td>1</td>\n",
       "      <td>0</td>\n",
       "      <td>1</td>\n",
       "    </tr>\n",
       "    <tr>\n",
       "      <th>3</th>\n",
       "      <td>3</td>\n",
       "      <td>2</td>\n",
       "      <td>1</td>\n",
       "      <td>0</td>\n",
       "      <td>1</td>\n",
       "    </tr>\n",
       "    <tr>\n",
       "      <th>4</th>\n",
       "      <td>3</td>\n",
       "      <td>3</td>\n",
       "      <td>2</td>\n",
       "      <td>0</td>\n",
       "      <td>1</td>\n",
       "    </tr>\n",
       "    <tr>\n",
       "      <th>5</th>\n",
       "      <td>3</td>\n",
       "      <td>3</td>\n",
       "      <td>2</td>\n",
       "      <td>1</td>\n",
       "      <td>0</td>\n",
       "    </tr>\n",
       "    <tr>\n",
       "      <th>6</th>\n",
       "      <td>2</td>\n",
       "      <td>3</td>\n",
       "      <td>2</td>\n",
       "      <td>1</td>\n",
       "      <td>1</td>\n",
       "    </tr>\n",
       "    <tr>\n",
       "      <th>7</th>\n",
       "      <td>1</td>\n",
       "      <td>2</td>\n",
       "      <td>1</td>\n",
       "      <td>0</td>\n",
       "      <td>0</td>\n",
       "    </tr>\n",
       "    <tr>\n",
       "      <th>8</th>\n",
       "      <td>1</td>\n",
       "      <td>3</td>\n",
       "      <td>2</td>\n",
       "      <td>0</td>\n",
       "      <td>1</td>\n",
       "    </tr>\n",
       "    <tr>\n",
       "      <th>9</th>\n",
       "      <td>3</td>\n",
       "      <td>2</td>\n",
       "      <td>2</td>\n",
       "      <td>0</td>\n",
       "      <td>1</td>\n",
       "    </tr>\n",
       "    <tr>\n",
       "      <th>10</th>\n",
       "      <td>1</td>\n",
       "      <td>2</td>\n",
       "      <td>2</td>\n",
       "      <td>1</td>\n",
       "      <td>1</td>\n",
       "    </tr>\n",
       "    <tr>\n",
       "      <th>11</th>\n",
       "      <td>2</td>\n",
       "      <td>2</td>\n",
       "      <td>1</td>\n",
       "      <td>1</td>\n",
       "      <td>1</td>\n",
       "    </tr>\n",
       "    <tr>\n",
       "      <th>12</th>\n",
       "      <td>2</td>\n",
       "      <td>1</td>\n",
       "      <td>2</td>\n",
       "      <td>0</td>\n",
       "      <td>1</td>\n",
       "    </tr>\n",
       "    <tr>\n",
       "      <th>13</th>\n",
       "      <td>3</td>\n",
       "      <td>2</td>\n",
       "      <td>1</td>\n",
       "      <td>0</td>\n",
       "      <td>0</td>\n",
       "    </tr>\n",
       "  </tbody>\n",
       "</table>\n",
       "</div>"
      ],
      "text/plain": [
       "    outlook  temp  hum  windy  play\n",
       "0         1     1    1      0     0\n",
       "1         1     1    1      1     0\n",
       "2         2     1    1      0     1\n",
       "3         3     2    1      0     1\n",
       "4         3     3    2      0     1\n",
       "5         3     3    2      1     0\n",
       "6         2     3    2      1     1\n",
       "7         1     2    1      0     0\n",
       "8         1     3    2      0     1\n",
       "9         3     2    2      0     1\n",
       "10        1     2    2      1     1\n",
       "11        2     2    1      1     1\n",
       "12        2     1    2      0     1\n",
       "13        3     2    1      0     0"
      ]
     },
     "execution_count": 44,
     "metadata": {},
     "output_type": "execute_result"
    }
   ],
   "source": [
    "playdf"
   ]
  },
  {
   "cell_type": "code",
   "execution_count": 45,
   "metadata": {},
   "outputs": [
    {
     "data": {
      "text/plain": [
       "0.6935361388961918"
      ]
     },
     "execution_count": 45,
     "metadata": {},
     "output_type": "execute_result"
    }
   ],
   "source": [
    "getP(playdf,\"outlook\")"
   ]
  },
  {
   "cell_type": "code",
   "execution_count": 46,
   "metadata": {},
   "outputs": [
    {
     "name": "stdout",
     "output_type": "stream",
     "text": [
      "    outlook  temp  hum  windy  play\n",
      "0         1     1    1      0     0\n",
      "1         1     1    1      1     0\n",
      "2         2     1    1      0     1\n",
      "3         3     2    1      0     1\n",
      "4         3     3    2      0     1\n",
      "5         3     3    2      1     0\n",
      "6         2     3    2      1     1\n",
      "7         1     2    1      0     0\n",
      "8         1     3    2      0     1\n",
      "9         3     2    2      0     1\n",
      "10        1     2    2      1     1\n",
      "11        2     2    1      1     1\n",
      "12        2     1    2      0     1\n",
      "13        3     2    1      0     0\n",
      "    temp  hum  windy  play\n",
      "0      1    1      0     0\n",
      "1      1    1      1     0\n",
      "7      2    1      0     0\n",
      "8      3    2      0     1\n",
      "10     2    2      1     1\n",
      "   hum  windy  play\n",
      "0    1      0     0\n",
      "1    1      1     0\n",
      "    hum  windy  play\n",
      "7     1      0     0\n",
      "10    2      1     1\n",
      "   windy  play\n",
      "7      0     0\n",
      "    windy  play\n",
      "10      1     1\n",
      "   hum  windy  play\n",
      "8    2      0     1\n",
      "    temp  hum  windy  play\n",
      "2      1    1      0     1\n",
      "6      3    2      1     1\n",
      "11     2    1      1     1\n",
      "12     1    2      0     1\n",
      "    temp  hum  windy  play\n",
      "3      2    1      0     1\n",
      "4      3    2      0     1\n",
      "5      3    2      1     0\n",
      "9      2    2      0     1\n",
      "13     2    1      0     0\n",
      "    hum  windy  play\n",
      "3     1      0     1\n",
      "9     2      0     1\n",
      "13    1      0     0\n",
      "    windy  play\n",
      "3       0     1\n",
      "13      0     0\n",
      "    play\n",
      "3      1\n",
      "13     0\n",
      "   windy  play\n",
      "9      0     1\n",
      "   hum  windy  play\n",
      "4    2      0     1\n",
      "5    2      1     0\n",
      "   windy  play\n",
      "4      0     1\n",
      "5      1     0\n",
      "   play\n",
      "4     1\n",
      "   play\n",
      "5     0\n"
     ]
    },
    {
     "data": {
      "text/plain": [
       "{'分组属性': 'outlook',\n",
       " '子节点': [{'分组属性': 'temp',\n",
       "   '子节点': [{'type': 0},\n",
       "    {'分组属性': 'hum', '子节点': [{'type': 0}, {'type': 1}]},\n",
       "    {'type': 1}]},\n",
       "  {'type': 1},\n",
       "  {'分组属性': 'temp',\n",
       "   '子节点': [{'分组属性': 'hum',\n",
       "     '子节点': [{'分组属性': 'windy', '子节点': [{'type': 0}]}, {'type': 1}]},\n",
       "    {'分组属性': 'hum',\n",
       "     '子节点': [{'分组属性': 'windy', '子节点': [{'type': 1}, {'type': 0}]}]}]}]}"
      ]
     },
     "execution_count": 46,
     "metadata": {},
     "output_type": "execute_result"
    }
   ],
   "source": [
    "gTree(playdf)"
   ]
  },
  {
   "cell_type": "code",
   "execution_count": null,
   "metadata": {},
   "outputs": [],
   "source": []
  },
  {
   "cell_type": "code",
   "execution_count": null,
   "metadata": {},
   "outputs": [],
   "source": []
  }
 ],
 "metadata": {
  "kernelspec": {
   "display_name": "Python 3",
   "language": "python",
   "name": "python3"
  },
  "language_info": {
   "codemirror_mode": {
    "name": "ipython",
    "version": 3
   },
   "file_extension": ".py",
   "mimetype": "text/x-python",
   "name": "python",
   "nbconvert_exporter": "python",
   "pygments_lexer": "ipython3",
   "version": "3.5.5"
  }
 },
 "nbformat": 4,
 "nbformat_minor": 2
}

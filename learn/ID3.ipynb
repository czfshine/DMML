{
 "cells": [
  {
   "cell_type": "code",
   "execution_count": 1,
   "metadata": {},
   "outputs": [],
   "source": [
    "import pandas as pd\n",
    "import numpy as np"
   ]
  },
  {
   "cell_type": "markdown",
   "metadata": {},
   "source": [
    "# ID3 与C4.5算法"
   ]
  },
  {
   "cell_type": "markdown",
   "metadata": {},
   "source": [
    "### 零、决策树\n",
    "\n",
    "一系列` if-then`规则, 对于决策树而言，每个非叶子节点就是一种属性，该节点的出边为该属性的各种可能的取值。而决策树的叶子节点是类别。\n",
    "\n",
    "对于输入的一组数据集，生成一颗决策树可以使用ID3或C4.5算法，这两种算法的最大区别在于选取分类属性的指标不同，ID3是直接选取最大信息增益的属性作为根节点，而C4.5是选取信息增益比最大的属性。\n",
    "同时，C4.5还有一些辅助步骤帮助生成更好的决策树。"
   ]
  },
  {
   "cell_type": "markdown",
   "metadata": {},
   "source": [
    "### 一、信息熵\n",
    "\n",
    "衡量信息的复杂程度和信息量的一个度量值，熵越大说明数据越复杂，所携带的信息越多，对与一组数据而言，熵的计算公式如下：\n",
    "\n",
    "$$ S= \\sum_{i=0}^{n} -p_i log_{2}{p_i } $$\n",
    "\n",
    "数据有n个取值，而$p_i$ 是各个取值的概率。可以注意到，该公式是对于无序的数据而已的，也就是数据的交换不会改变这个熵值。比如`1,1,1,1,0,0,0,0`和`1,0,1,0,1,0,1,0`的熵是一样的。\n",
    "\n",
    "下面是计算熵的函数，输入是一个数据序列。"
   ]
  },
  {
   "cell_type": "code",
   "execution_count": 44,
   "metadata": {},
   "outputs": [],
   "source": [
    "from math import log\n",
    "def Ent(series :pd.Series) ->float:\n",
    "    a  =series.shape[0]\n",
    "    ent=0.0\n",
    "    for i in series.value_counts():\n",
    "        ent-= i/a *log(i/a,2)\n",
    "    return ent"
   ]
  },
  {
   "cell_type": "markdown",
   "metadata": {},
   "source": [
    "上面的算法只针对一种属性取值类别所含的信息熵，假如该属性含多个取值，我们定义其信息量为：\n",
    "\n",
    "$$ E= \\sum_{i=0}^{n} c_i S_i $$\n",
    "$c_i$ 是该取值占整体的比例，$S_i$是在该取值下的**类型**分布的信息熵。\n",
    "\n",
    "计算信息熵的函数：\n"
   ]
  },
  {
   "cell_type": "code",
   "execution_count": 42,
   "metadata": {},
   "outputs": [],
   "source": [
    "def getE(df : pd.DataFrame,index : str):\n",
    "    classname=df.columns[-1]\n",
    "    theP=0.0\n",
    "    allcount=df.shape[0]\n",
    "    for v in df[index].unique():\n",
    "        subdf=df[df[index]==v]\n",
    "        subcount=subdf.shape[0]\n",
    "        theP+=(subcount / allcount)*Ent(subdf[subdf.columns[-1]])\n",
    "    return theP"
   ]
  },
  {
   "cell_type": "markdown",
   "metadata": {},
   "source": [
    "现在假如整个数据量类别的信息熵为$S$，那么选择某个属性后获得的信息熵为$E$，则该属性的信息增益为$S-E$，也就是说，选择该属性作为判断条件，可以为我们带来多少信息量。显然信息量越多越好，所以我们要选信息增益最大的属性。这就是ID3算法的选择条件。\n",
    "\n",
    "考虑到一个数据集的$S$是不变的，所以要求最大的信息增益，其实是求拥有最小$E$的属性。\n",
    "\n",
    "但是，每一个属性的取值分布同时也携带一定的信息量。\n",
    "\n",
    "$$ S_i= \\sum_{i=0}^{n} -p_i log_{2}{p_i } $$\n",
    "\n",
    "$p_i $ 是该属性各个**取值**的概率。\n",
    "\n",
    "也就是对于取值类别较多的属性而言，它携带的信息量也比较多。选择该属性所带来的信息增益一部分属于属性本身的，我们要进行扣除。也就得到该属性的信息增益比例。\n",
    "\n",
    "$$ G=\\frac{S-E}{S_i}$$\n",
    "\n",
    "C4.5算法选择拥有最大信息增益比例$G$的属性作为根节点。同理对于同一个数据集而言，$S$也是不变的，所以我们只要求$\\frac {E} {S_i}$ 为最小的就行 "
   ]
  },
  {
   "cell_type": "code",
   "execution_count": 24,
   "metadata": {},
   "outputs": [],
   "source": [
    "def getS_i(df : pd.DataFrame,index : str):\n",
    "    classname=df.columns[-1]\n",
    "    theP=0.0\n",
    "    allcount=df.shape[0]\n",
    "    for v in df[index].unique():\n",
    "        subdf=df[df[index]==v]\n",
    "        subcount=subdf.shape[0]\n",
    "        theP+=(subcount / allcount)*log(subcount / allcount,2)\n",
    "    return theP"
   ]
  },
  {
   "cell_type": "code",
   "execution_count": 25,
   "metadata": {},
   "outputs": [],
   "source": [
    "def getG(df : pd.DataFrame,index : str) ->float:\n",
    "    return getE(df,index)/getS_i(df,index)"
   ]
  },
  {
   "cell_type": "markdown",
   "metadata": {},
   "source": [
    "### 二、算法步骤\n",
    "\n",
    "对于一个数据集,生成节点的算法如下：\n",
    "* 1.如果没有属性就采用多数表决\n",
    "* 2.如果属于同一个类，则算法停止，使用该标记做分类 \n",
    "* 3.根据最大信息增益或最大信息增益比例的属性划分子数据集，对每个数据集生成子节点\n",
    "\n",
    "代码实现如下（先就ID3 做例子）："
   ]
  },
  {
   "cell_type": "code",
   "execution_count": 31,
   "metadata": {},
   "outputs": [],
   "source": [
    "def gID3Tree(df):\n",
    "    \n",
    "    if(ispure(df)): #无属性\n",
    "        return gPureNode(df)\n",
    "    \n",
    "    if(issame(df)): #同一类\n",
    "        return gSameNode(df)\n",
    "        \n",
    "    maxindex=getMaxIndex(df,getE)\n",
    "    # 划分\n",
    "    subdfs=df.groupby(maxindex)\n",
    "    \n",
    "    #生成节点和子节点\n",
    "    node={}\n",
    "    node[\"分组属性\"]=maxindex\n",
    "    node[\"子节点\"]=[]\n",
    "    for subdf in subdfs:\n",
    "        sdf=subdf[1]\n",
    "        sdf.pop(maxindex)\n",
    "        node[\"子节点\"].append((subdf[0],gTree(sdf)))\n",
    "        \n",
    "    return node"
   ]
  },
  {
   "cell_type": "markdown",
   "metadata": {},
   "source": [
    "可以看到代码的逻辑基本和算法描述一样，接下来一个一个实现功能函数就行\n",
    "\n",
    "判断是不是空属性和多数表决比较简单："
   ]
  },
  {
   "cell_type": "code",
   "execution_count": 32,
   "metadata": {},
   "outputs": [
    {
     "name": "stdout",
     "output_type": "stream",
     "text": [
      "False\n",
      "True\n"
     ]
    }
   ],
   "source": [
    "def ispure(df):\n",
    "    return df.shape[1]==1\n",
    "print(ispure(pd.DataFrame(np.zeros((3,10)))))\n",
    "print(ispure(pd.DataFrame(np.zeros((3,1)))))"
   ]
  },
  {
   "cell_type": "code",
   "execution_count": 33,
   "metadata": {},
   "outputs": [
    {
     "data": {
      "text/plain": [
       "(1, 1, 2)"
      ]
     },
     "execution_count": 33,
     "metadata": {},
     "output_type": "execute_result"
    }
   ],
   "source": [
    "def maxType(df):\n",
    "    \"\"\"\n",
    "    多数表决\n",
    "    实现得不够优雅\n",
    "    \"\"\"\n",
    "    maxcount=-1\n",
    "    maxtype=None\n",
    "    for sdf in df.groupby(df.columns[0]):\n",
    "        if(sdf[1].count()[0] >maxcount):\n",
    "            maxcount=sdf[1].count()[0]\n",
    "            maxtype=sdf[0]\n",
    "    return maxtype\n",
    "(maxType(pd.DataFrame(np.array([1,1,1,1,1,2,2,2,3]).reshape((9,1))))\n",
    ",maxType(pd.DataFrame(np.array([1,1,1,1,2,2,2,2,3]).reshape((9,1))))\n",
    ",maxType(pd.DataFrame(np.array([1,1,1,2,2,2,2,2,3]).reshape((9,1)))))"
   ]
  },
  {
   "cell_type": "markdown",
   "metadata": {},
   "source": [
    "判断是不是同一个类别的看最后一列就行"
   ]
  },
  {
   "cell_type": "code",
   "execution_count": 34,
   "metadata": {},
   "outputs": [
    {
     "data": {
      "text/plain": [
       "(True, False)"
      ]
     },
     "execution_count": 34,
     "metadata": {},
     "output_type": "execute_result"
    }
   ],
   "source": [
    "def issame(df):\n",
    "    return df[df.columns[-1]].unique().size==1\n",
    "(issame(pd.DataFrame(np.array([4,4,4,4,4,4,4,4,4,4,4,4,4,4,4,4,4,4]).reshape(9,2))),\n",
    " issame(pd.DataFrame(np.array([4,4,4,4,4,4,4,4,4,4,4,4,4,4,4,3,4,4]).reshape(9,2))))"
   ]
  },
  {
   "cell_type": "markdown",
   "metadata": {},
   "source": [
    "对于这两种情况就是叶子节点了"
   ]
  },
  {
   "cell_type": "code",
   "execution_count": 35,
   "metadata": {},
   "outputs": [],
   "source": [
    "def gPureNode(df):\n",
    "    types=maxType(df)\n",
    "    node={}\n",
    "    node[\"type\"]=types\n",
    "    return node\n",
    "def gSameNode(df):\n",
    "    types=df[df.columns[-1]].values[0]\n",
    "    node={}\n",
    "    node[\"type\"]=types\n",
    "    return node;"
   ]
  },
  {
   "cell_type": "markdown",
   "metadata": {},
   "source": [
    "取最大增益的列名"
   ]
  },
  {
   "cell_type": "code",
   "execution_count": 36,
   "metadata": {},
   "outputs": [],
   "source": [
    "def getMaxIndex(df,getD):\n",
    "    if (df.columns.size<=2):\n",
    "        return df.columns[0]\n",
    "    \n",
    "    allindex=df.columns[:-1]\n",
    "    maxindex=allindex[0]\n",
    "    maxp=getD(df,maxindex)\n",
    "    for i in allindex[1:0]:\n",
    "        p=getD(df,maxindex)\n",
    "        if(p<maxp):\n",
    "            maxp=p\n",
    "            maxindex=i\n",
    "    return maxindex"
   ]
  },
  {
   "cell_type": "markdown",
   "metadata": {},
   "source": [
    "下面是教材内的测试数据，为了输入方便，用数值代替了"
   ]
  },
  {
   "cell_type": "code",
   "execution_count": 37,
   "metadata": {},
   "outputs": [],
   "source": [
    "outlook=[1,1,2,3,3,3,2,1,1,3,1,2,2,3]\n",
    "temp=[1,1,1,2,3,3,3,2,3,2,2,2,1,2]\n",
    "hum=[1,1,1,1,2,2,2,1,2,2,2,1,2,1]\n",
    "windy=[0,1,0,0,0,1,1,0,0,0,1,1,0,0]\n",
    "play=[0,0,1,1,1,0,1,0,1,1,1,1,1,0]\n",
    "DataSet = list(zip(outlook,temp,hum,windy,play))\n",
    "playdf = pd.DataFrame(data = DataSet, columns=[\"outlook\",\"temp\",\"hum\",\"windy\",\"play\"])"
   ]
  },
  {
   "cell_type": "code",
   "execution_count": 38,
   "metadata": {
    "scrolled": false
   },
   "outputs": [
    {
     "data": {
      "text/html": [
       "<div>\n",
       "<style scoped>\n",
       "    .dataframe tbody tr th:only-of-type {\n",
       "        vertical-align: middle;\n",
       "    }\n",
       "\n",
       "    .dataframe tbody tr th {\n",
       "        vertical-align: top;\n",
       "    }\n",
       "\n",
       "    .dataframe thead th {\n",
       "        text-align: right;\n",
       "    }\n",
       "</style>\n",
       "<table border=\"1\" class=\"dataframe\">\n",
       "  <thead>\n",
       "    <tr style=\"text-align: right;\">\n",
       "      <th></th>\n",
       "      <th>outlook</th>\n",
       "      <th>temp</th>\n",
       "      <th>hum</th>\n",
       "      <th>windy</th>\n",
       "      <th>play</th>\n",
       "    </tr>\n",
       "  </thead>\n",
       "  <tbody>\n",
       "    <tr>\n",
       "      <th>0</th>\n",
       "      <td>1</td>\n",
       "      <td>1</td>\n",
       "      <td>1</td>\n",
       "      <td>0</td>\n",
       "      <td>0</td>\n",
       "    </tr>\n",
       "    <tr>\n",
       "      <th>1</th>\n",
       "      <td>1</td>\n",
       "      <td>1</td>\n",
       "      <td>1</td>\n",
       "      <td>1</td>\n",
       "      <td>0</td>\n",
       "    </tr>\n",
       "    <tr>\n",
       "      <th>2</th>\n",
       "      <td>2</td>\n",
       "      <td>1</td>\n",
       "      <td>1</td>\n",
       "      <td>0</td>\n",
       "      <td>1</td>\n",
       "    </tr>\n",
       "    <tr>\n",
       "      <th>3</th>\n",
       "      <td>3</td>\n",
       "      <td>2</td>\n",
       "      <td>1</td>\n",
       "      <td>0</td>\n",
       "      <td>1</td>\n",
       "    </tr>\n",
       "    <tr>\n",
       "      <th>4</th>\n",
       "      <td>3</td>\n",
       "      <td>3</td>\n",
       "      <td>2</td>\n",
       "      <td>0</td>\n",
       "      <td>1</td>\n",
       "    </tr>\n",
       "    <tr>\n",
       "      <th>5</th>\n",
       "      <td>3</td>\n",
       "      <td>3</td>\n",
       "      <td>2</td>\n",
       "      <td>1</td>\n",
       "      <td>0</td>\n",
       "    </tr>\n",
       "    <tr>\n",
       "      <th>6</th>\n",
       "      <td>2</td>\n",
       "      <td>3</td>\n",
       "      <td>2</td>\n",
       "      <td>1</td>\n",
       "      <td>1</td>\n",
       "    </tr>\n",
       "    <tr>\n",
       "      <th>7</th>\n",
       "      <td>1</td>\n",
       "      <td>2</td>\n",
       "      <td>1</td>\n",
       "      <td>0</td>\n",
       "      <td>0</td>\n",
       "    </tr>\n",
       "    <tr>\n",
       "      <th>8</th>\n",
       "      <td>1</td>\n",
       "      <td>3</td>\n",
       "      <td>2</td>\n",
       "      <td>0</td>\n",
       "      <td>1</td>\n",
       "    </tr>\n",
       "    <tr>\n",
       "      <th>9</th>\n",
       "      <td>3</td>\n",
       "      <td>2</td>\n",
       "      <td>2</td>\n",
       "      <td>0</td>\n",
       "      <td>1</td>\n",
       "    </tr>\n",
       "    <tr>\n",
       "      <th>10</th>\n",
       "      <td>1</td>\n",
       "      <td>2</td>\n",
       "      <td>2</td>\n",
       "      <td>1</td>\n",
       "      <td>1</td>\n",
       "    </tr>\n",
       "    <tr>\n",
       "      <th>11</th>\n",
       "      <td>2</td>\n",
       "      <td>2</td>\n",
       "      <td>1</td>\n",
       "      <td>1</td>\n",
       "      <td>1</td>\n",
       "    </tr>\n",
       "    <tr>\n",
       "      <th>12</th>\n",
       "      <td>2</td>\n",
       "      <td>1</td>\n",
       "      <td>2</td>\n",
       "      <td>0</td>\n",
       "      <td>1</td>\n",
       "    </tr>\n",
       "    <tr>\n",
       "      <th>13</th>\n",
       "      <td>3</td>\n",
       "      <td>2</td>\n",
       "      <td>1</td>\n",
       "      <td>0</td>\n",
       "      <td>0</td>\n",
       "    </tr>\n",
       "  </tbody>\n",
       "</table>\n",
       "</div>"
      ],
      "text/plain": [
       "    outlook  temp  hum  windy  play\n",
       "0         1     1    1      0     0\n",
       "1         1     1    1      1     0\n",
       "2         2     1    1      0     1\n",
       "3         3     2    1      0     1\n",
       "4         3     3    2      0     1\n",
       "5         3     3    2      1     0\n",
       "6         2     3    2      1     1\n",
       "7         1     2    1      0     0\n",
       "8         1     3    2      0     1\n",
       "9         3     2    2      0     1\n",
       "10        1     2    2      1     1\n",
       "11        2     2    1      1     1\n",
       "12        2     1    2      0     1\n",
       "13        3     2    1      0     0"
      ]
     },
     "execution_count": 38,
     "metadata": {},
     "output_type": "execute_result"
    }
   ],
   "source": [
    "playdf"
   ]
  },
  {
   "cell_type": "markdown",
   "metadata": {},
   "source": [
    "测试一下信息熵函数有没有错,结果应该是0.694"
   ]
  },
  {
   "cell_type": "code",
   "execution_count": 45,
   "metadata": {},
   "outputs": [
    {
     "data": {
      "text/plain": [
       "0.6935361388961918"
      ]
     },
     "execution_count": 45,
     "metadata": {},
     "output_type": "execute_result"
    }
   ],
   "source": [
    "getE(playdf,\"outlook\")"
   ]
  },
  {
   "cell_type": "code",
   "execution_count": 46,
   "metadata": {
    "scrolled": false
   },
   "outputs": [
    {
     "data": {
      "text/plain": [
       "{'分组属性': 'outlook',\n",
       " '子节点': [(1,\n",
       "   {'分组属性': 'temp',\n",
       "    '子节点': [(1, {'type': 0}),\n",
       "     (2, {'分组属性': 'hum', '子节点': [(1, {'type': 0}), (2, {'type': 1})]}),\n",
       "     (3, {'type': 1})]}),\n",
       "  (2, {'type': 1}),\n",
       "  (3,\n",
       "   {'分组属性': 'temp',\n",
       "    '子节点': [(2,\n",
       "      {'分组属性': 'hum',\n",
       "       '子节点': [(1, {'分组属性': 'windy', '子节点': [(0, {'type': 0})]}),\n",
       "        (2, {'type': 1})]}),\n",
       "     (3,\n",
       "      {'分组属性': 'hum',\n",
       "       '子节点': [(2,\n",
       "         {'分组属性': 'windy',\n",
       "          '子节点': [(0, {'type': 1}), (1, {'type': 0})]})]})]})]}"
      ]
     },
     "execution_count": 46,
     "metadata": {},
     "output_type": "execute_result"
    }
   ],
   "source": [
    "tree=gID3Tree(playdf)\n",
    "tree"
   ]
  },
  {
   "cell_type": "markdown",
   "metadata": {},
   "source": [
    "预测"
   ]
  },
  {
   "cell_type": "markdown",
   "metadata": {},
   "source": [
    "测试数据集"
   ]
  },
  {
   "cell_type": "code",
   "execution_count": 139,
   "metadata": {},
   "outputs": [],
   "source": [
    "DataSet = list([(3,3,2,0),(1,2,2,0)])\n",
    "test = pd.DataFrame(data = DataSet, columns=[\"outlook\",\"temp\",\"hum\",\"windy\"])"
   ]
  },
  {
   "cell_type": "code",
   "execution_count": 140,
   "metadata": {
    "scrolled": true
   },
   "outputs": [
    {
     "data": {
      "text/html": [
       "<div>\n",
       "<style scoped>\n",
       "    .dataframe tbody tr th:only-of-type {\n",
       "        vertical-align: middle;\n",
       "    }\n",
       "\n",
       "    .dataframe tbody tr th {\n",
       "        vertical-align: top;\n",
       "    }\n",
       "\n",
       "    .dataframe thead th {\n",
       "        text-align: right;\n",
       "    }\n",
       "</style>\n",
       "<table border=\"1\" class=\"dataframe\">\n",
       "  <thead>\n",
       "    <tr style=\"text-align: right;\">\n",
       "      <th></th>\n",
       "      <th>outlook</th>\n",
       "      <th>temp</th>\n",
       "      <th>hum</th>\n",
       "      <th>windy</th>\n",
       "    </tr>\n",
       "  </thead>\n",
       "  <tbody>\n",
       "    <tr>\n",
       "      <th>0</th>\n",
       "      <td>3</td>\n",
       "      <td>3</td>\n",
       "      <td>2</td>\n",
       "      <td>0</td>\n",
       "    </tr>\n",
       "    <tr>\n",
       "      <th>1</th>\n",
       "      <td>1</td>\n",
       "      <td>2</td>\n",
       "      <td>2</td>\n",
       "      <td>0</td>\n",
       "    </tr>\n",
       "  </tbody>\n",
       "</table>\n",
       "</div>"
      ],
      "text/plain": [
       "   outlook  temp  hum  windy\n",
       "0        3     3    2      0\n",
       "1        1     2    2      0"
      ]
     },
     "execution_count": 140,
     "metadata": {},
     "output_type": "execute_result"
    }
   ],
   "source": [
    "test"
   ]
  },
  {
   "cell_type": "markdown",
   "metadata": {},
   "source": [
    "预测函数"
   ]
  },
  {
   "cell_type": "code",
   "execution_count": 141,
   "metadata": {},
   "outputs": [],
   "source": [
    "def predict(tree,data):\n",
    "    for i in range(data.shape[0]):\n",
    "        line=data.iloc[i]\n",
    "        t=tree\n",
    "        while True:\n",
    "            if t.get(\"type\") !=None:\n",
    "                print(t[\"type\"])\n",
    "                break\n",
    "            index=t[\"分组属性\"]\n",
    "            value=line[index]\n",
    "            f=False\n",
    "            \n",
    "            for i in t[\"子节点\"]:\n",
    "                if(i[0])==value:\n",
    "                    t=i[1]\n",
    "                    f=True\n",
    "                    break\n",
    "            if f ==False:\n",
    "                print(\"找不到属性\",index,\"为\",value,\"的分支\")\n",
    "                break"
   ]
  },
  {
   "cell_type": "markdown",
   "metadata": {},
   "source": [
    "结果"
   ]
  },
  {
   "cell_type": "code",
   "execution_count": 142,
   "metadata": {},
   "outputs": [
    {
     "name": "stdout",
     "output_type": "stream",
     "text": [
      "1\n",
      "1\n"
     ]
    }
   ],
   "source": [
    "predict(tree,test)"
   ]
  },
  {
   "cell_type": "markdown",
   "metadata": {},
   "source": [
    "C4.5只需要使用G作为衡量指标即可"
   ]
  },
  {
   "cell_type": "code",
   "execution_count": 47,
   "metadata": {},
   "outputs": [],
   "source": [
    "def gC45Tree(df):\n",
    "    \n",
    "    if(ispure(df)): #无属性\n",
    "        return gPureNode(df)\n",
    "    \n",
    "    if(issame(df)): #同一类\n",
    "        return gSameNode(df)\n",
    "        \n",
    "    maxindex=getMaxIndex(df,getG)\n",
    "    # 划分\n",
    "    subdfs=df.groupby(maxindex)\n",
    "    \n",
    "    #生成节点和子节点\n",
    "    node={}\n",
    "    node[\"分组属性\"]=maxindex\n",
    "    node[\"子节点\"]=[]\n",
    "    for subdf in subdfs:\n",
    "        sdf=subdf[1]\n",
    "        sdf.pop(maxindex)\n",
    "        node[\"子节点\"].append((subdf[0],gTree(sdf)))\n",
    "        \n",
    "    return node"
   ]
  },
  {
   "cell_type": "code",
   "execution_count": 48,
   "metadata": {},
   "outputs": [
    {
     "data": {
      "text/plain": [
       "{'分组属性': 'outlook',\n",
       " '子节点': [(1,\n",
       "   {'分组属性': 'temp',\n",
       "    '子节点': [(1, {'type': 0}),\n",
       "     (2, {'分组属性': 'hum', '子节点': [(1, {'type': 0}), (2, {'type': 1})]}),\n",
       "     (3, {'type': 1})]}),\n",
       "  (2, {'type': 1}),\n",
       "  (3,\n",
       "   {'分组属性': 'temp',\n",
       "    '子节点': [(2,\n",
       "      {'分组属性': 'hum',\n",
       "       '子节点': [(1, {'分组属性': 'windy', '子节点': [(0, {'type': 0})]}),\n",
       "        (2, {'type': 1})]}),\n",
       "     (3,\n",
       "      {'分组属性': 'hum',\n",
       "       '子节点': [(2,\n",
       "         {'分组属性': 'windy',\n",
       "          '子节点': [(0, {'type': 1}), (1, {'type': 0})]})]})]})]}"
      ]
     },
     "execution_count": 48,
     "metadata": {},
     "output_type": "execute_result"
    }
   ],
   "source": [
    "gC45Tree(playdf)"
   ]
  },
  {
   "cell_type": "code",
   "execution_count": null,
   "metadata": {},
   "outputs": [],
   "source": []
  }
 ],
 "metadata": {
  "kernelspec": {
   "display_name": "Python 3",
   "language": "python",
   "name": "python3"
  },
  "language_info": {
   "codemirror_mode": {
    "name": "ipython",
    "version": 3
   },
   "file_extension": ".py",
   "mimetype": "text/x-python",
   "name": "python",
   "nbconvert_exporter": "python",
   "pygments_lexer": "ipython3",
   "version": "3.5.5"
  }
 },
 "nbformat": 4,
 "nbformat_minor": 2
}

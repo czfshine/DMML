{
 "cells": [
  {
   "cell_type": "markdown",
   "metadata": {},
   "source": [
    "## 朴素贝叶斯\n"
   ]
  },
  {
   "cell_type": "markdown",
   "metadata": {},
   "source": [
    "> 使用贝叶斯公式对离散数据进行分类\n",
    "\n",
    "### 贝叶斯公式：\n",
    "对于事件$B_i$,在$A$ 发生的条件下发生的概率为：\n",
    "$$ P(B_i | A) =\\frac { P(B_i ) P ( A|B_i)}{ P(A)}$$\n",
    "\n",
    "对于训练数据集，一组数据包括多个属性取值的向量$X$ 和目标类别$c$ 。\n",
    "\n",
    "当我们取得一个新的属性向量$X$后，要判断其所属的类别，可以这样:\n",
    "\n",
    "> 针对每个可能的类别$c_i$ 计算 $P(c_i|X)$,取拥有最大$P(c_i|X)$的$c_i$ 作为$X$的类别。\n",
    "\n",
    "这就是朴素贝叶斯算法的核心思想"
   ]
  },
  {
   "cell_type": "markdown",
   "metadata": {},
   "source": [
    "### 朴素贝叶斯算法"
   ]
  },
  {
   "cell_type": "markdown",
   "metadata": {},
   "source": [
    "计算$P(c_i|X)$ 可根据贝叶斯公式:\n",
    "$$ P(c_i | X) =\\frac { P(c_i ) P ( X|c_i)}{ P(X)}$$\n",
    "进行求解。由于$P(x) $ 对于每一个$c_i$ 都一样，所以要求最大的$P(c_i|X)$ 等价于求最大的$P(c_i ) P ( X|c_i)$\n",
    "\n",
    "$P(c_i )$ 可使用训练数据的$c_i$的频率进行代替。\n",
    "\n",
    "下面讨论$ P ( X|c_i)$的计算过程：\n",
    "\n",
    "如果直接在训练集里面直接在$c_i$取$X$出现的频率当作概率误差较大，有可能该属性取值组合出现次数很少或者为零，但是不能说明这个组合为这个类别的几率少。为了更好的计算$ P ( X|c_i)$，我们引入**独立性假设** \n",
    "#### 独立性假设\n",
    "> 假设各个属性取值的相互独立的\n",
    "\n",
    "这个假设对于实际数据几乎是达不到的，这也是算法的误差来源之一。可以使用一些数据预处理的手段降低这个误差，我们先认为由于这个引起的误差足够小。\n",
    "\n",
    "当数据满足这个假设时，$$ P ( X|c_i) = \\prod _{j=1}^{n} P(x_j|c_i)$$ $x_j$为$X$各个属性的取值。"
   ]
  },
  {
   "cell_type": "markdown",
   "metadata": {},
   "source": [
    "#### 计算公式\n",
    "整理前面的公式我们可以得到：\n",
    "\n",
    "对每个可能的类别$c_i$ 的$P(c_i|X) $ 有：\n",
    "\n",
    "$$P(c_i|X) \\propto P(c_i ) P ( X|c_i) =P(c_i ) \\prod _{j=1}^{n} P(x_j|c_i) $$\n",
    "\n",
    "公式的右部我们可根据训练数据得到，这就是朴素贝叶斯算法。\n",
    "\n",
    "代码框架如下："
   ]
  },
  {
   "cell_type": "code",
   "execution_count": 41,
   "metadata": {},
   "outputs": [],
   "source": [
    "import pandas as pd\n",
    "import numpy as np\n",
    "def  bayesian(dataset :pd.DataFrame ,X :pd.Series):\n",
    "    allclass = getAllClass(dataset)\n",
    "    inittable(dataset)\n",
    "    theclass=None\n",
    "    theP=-1\n",
    "    for c in allclass:\n",
    "        cP=getP(X,c)\n",
    "        if(cP>theP):\n",
    "            theclass=c\n",
    "            theP=cP\n",
    "    return theclass;"
   ]
  },
  {
   "cell_type": "code",
   "execution_count": 42,
   "metadata": {},
   "outputs": [],
   "source": [
    "def getAllClass(df):\n",
    "    return df[df.columns[-1]].unique();"
   ]
  },
  {
   "cell_type": "code",
   "execution_count": 48,
   "metadata": {},
   "outputs": [],
   "source": [
    "theP=[]\n",
    "thecp={}\n",
    "def getPre(df,i,xi,ci):\n",
    "    subdf =df[df[df.columns[-1]]==ci]\n",
    "    c = subdf.shape[0]\n",
    "    cc = subdf [ subdf[subdf.columns[i]] == xi] . shape[0]\n",
    "    return cc/c\n",
    "def inittable(df):\n",
    "    for i in range(df.shape[1]-1): #属性数量\n",
    "        theP.append({})\n",
    "        d=theP[i]\n",
    "        for xi in (df[df.columns[i]].unique()):\n",
    "            dd={}\n",
    "            d[xi]=dd\n",
    "            for ci in df[df.columns[-1]].unique():\n",
    "                dd[ci]=getPre(df,i,xi,ci);\n",
    "    tc=df.shape[0];\n",
    "    for ci in df[df.columns[-1]].unique():\n",
    "        subdf =df[df[df.columns[-1]]==ci]\n",
    "        c = subdf.shape[0]\n",
    "        thecp[ci]=c/tc\n",
    "\n",
    "def getP(X,c):\n",
    "    res=1;\n",
    "    res*=thecp[c]\n",
    "    for i in range(X.count()):\n",
    "        res*=theP[i][X[i]][c]\n",
    "    return res"
   ]
  },
  {
   "cell_type": "code",
   "execution_count": 49,
   "metadata": {},
   "outputs": [
    {
     "data": {
      "text/html": [
       "<div>\n",
       "<style scoped>\n",
       "    .dataframe tbody tr th:only-of-type {\n",
       "        vertical-align: middle;\n",
       "    }\n",
       "\n",
       "    .dataframe tbody tr th {\n",
       "        vertical-align: top;\n",
       "    }\n",
       "\n",
       "    .dataframe thead th {\n",
       "        text-align: right;\n",
       "    }\n",
       "</style>\n",
       "<table border=\"1\" class=\"dataframe\">\n",
       "  <thead>\n",
       "    <tr style=\"text-align: right;\">\n",
       "      <th></th>\n",
       "      <th>outlook</th>\n",
       "      <th>temp</th>\n",
       "      <th>hum</th>\n",
       "      <th>windy</th>\n",
       "      <th>play</th>\n",
       "    </tr>\n",
       "  </thead>\n",
       "  <tbody>\n",
       "    <tr>\n",
       "      <th>0</th>\n",
       "      <td>1</td>\n",
       "      <td>1</td>\n",
       "      <td>1</td>\n",
       "      <td>0</td>\n",
       "      <td>0</td>\n",
       "    </tr>\n",
       "    <tr>\n",
       "      <th>1</th>\n",
       "      <td>1</td>\n",
       "      <td>1</td>\n",
       "      <td>1</td>\n",
       "      <td>1</td>\n",
       "      <td>0</td>\n",
       "    </tr>\n",
       "    <tr>\n",
       "      <th>2</th>\n",
       "      <td>2</td>\n",
       "      <td>1</td>\n",
       "      <td>1</td>\n",
       "      <td>0</td>\n",
       "      <td>1</td>\n",
       "    </tr>\n",
       "    <tr>\n",
       "      <th>3</th>\n",
       "      <td>3</td>\n",
       "      <td>2</td>\n",
       "      <td>1</td>\n",
       "      <td>0</td>\n",
       "      <td>1</td>\n",
       "    </tr>\n",
       "    <tr>\n",
       "      <th>4</th>\n",
       "      <td>3</td>\n",
       "      <td>3</td>\n",
       "      <td>2</td>\n",
       "      <td>0</td>\n",
       "      <td>1</td>\n",
       "    </tr>\n",
       "    <tr>\n",
       "      <th>5</th>\n",
       "      <td>3</td>\n",
       "      <td>3</td>\n",
       "      <td>2</td>\n",
       "      <td>1</td>\n",
       "      <td>0</td>\n",
       "    </tr>\n",
       "    <tr>\n",
       "      <th>6</th>\n",
       "      <td>2</td>\n",
       "      <td>3</td>\n",
       "      <td>2</td>\n",
       "      <td>1</td>\n",
       "      <td>1</td>\n",
       "    </tr>\n",
       "    <tr>\n",
       "      <th>7</th>\n",
       "      <td>1</td>\n",
       "      <td>2</td>\n",
       "      <td>1</td>\n",
       "      <td>0</td>\n",
       "      <td>0</td>\n",
       "    </tr>\n",
       "    <tr>\n",
       "      <th>8</th>\n",
       "      <td>1</td>\n",
       "      <td>3</td>\n",
       "      <td>2</td>\n",
       "      <td>0</td>\n",
       "      <td>1</td>\n",
       "    </tr>\n",
       "    <tr>\n",
       "      <th>9</th>\n",
       "      <td>3</td>\n",
       "      <td>2</td>\n",
       "      <td>2</td>\n",
       "      <td>0</td>\n",
       "      <td>1</td>\n",
       "    </tr>\n",
       "    <tr>\n",
       "      <th>10</th>\n",
       "      <td>1</td>\n",
       "      <td>2</td>\n",
       "      <td>2</td>\n",
       "      <td>1</td>\n",
       "      <td>1</td>\n",
       "    </tr>\n",
       "    <tr>\n",
       "      <th>11</th>\n",
       "      <td>2</td>\n",
       "      <td>2</td>\n",
       "      <td>1</td>\n",
       "      <td>1</td>\n",
       "      <td>1</td>\n",
       "    </tr>\n",
       "    <tr>\n",
       "      <th>12</th>\n",
       "      <td>2</td>\n",
       "      <td>1</td>\n",
       "      <td>2</td>\n",
       "      <td>0</td>\n",
       "      <td>1</td>\n",
       "    </tr>\n",
       "    <tr>\n",
       "      <th>13</th>\n",
       "      <td>3</td>\n",
       "      <td>2</td>\n",
       "      <td>1</td>\n",
       "      <td>0</td>\n",
       "      <td>0</td>\n",
       "    </tr>\n",
       "  </tbody>\n",
       "</table>\n",
       "</div>"
      ],
      "text/plain": [
       "    outlook  temp  hum  windy  play\n",
       "0         1     1    1      0     0\n",
       "1         1     1    1      1     0\n",
       "2         2     1    1      0     1\n",
       "3         3     2    1      0     1\n",
       "4         3     3    2      0     1\n",
       "5         3     3    2      1     0\n",
       "6         2     3    2      1     1\n",
       "7         1     2    1      0     0\n",
       "8         1     3    2      0     1\n",
       "9         3     2    2      0     1\n",
       "10        1     2    2      1     1\n",
       "11        2     2    1      1     1\n",
       "12        2     1    2      0     1\n",
       "13        3     2    1      0     0"
      ]
     },
     "execution_count": 49,
     "metadata": {},
     "output_type": "execute_result"
    }
   ],
   "source": [
    "outlook=[1,1,2,3,3,3,2,1,1,3,1,2,2,3]\n",
    "temp=[1,1,1,2,3,3,3,2,3,2,2,2,1,2]\n",
    "hum=[1,1,1,1,2,2,2,1,2,2,2,1,2,1]\n",
    "windy=[0,1,0,0,0,1,1,0,0,0,1,1,0,0]\n",
    "play=[0,0,1,1,1,0,1,0,1,1,1,1,1,0]\n",
    "DataSet = list(zip(outlook,temp,hum,windy,play))\n",
    "playdf = pd.DataFrame(data = DataSet, columns=[\"outlook\",\"temp\",\"hum\",\"windy\",\"play\"])\n",
    "playdf"
   ]
  },
  {
   "cell_type": "code",
   "execution_count": 50,
   "metadata": {},
   "outputs": [
    {
     "data": {
      "text/html": [
       "<div>\n",
       "<style scoped>\n",
       "    .dataframe tbody tr th:only-of-type {\n",
       "        vertical-align: middle;\n",
       "    }\n",
       "\n",
       "    .dataframe tbody tr th {\n",
       "        vertical-align: top;\n",
       "    }\n",
       "\n",
       "    .dataframe thead th {\n",
       "        text-align: right;\n",
       "    }\n",
       "</style>\n",
       "<table border=\"1\" class=\"dataframe\">\n",
       "  <thead>\n",
       "    <tr style=\"text-align: right;\">\n",
       "      <th></th>\n",
       "      <th>outlook</th>\n",
       "      <th>temp</th>\n",
       "      <th>hum</th>\n",
       "      <th>windy</th>\n",
       "      <th>play</th>\n",
       "    </tr>\n",
       "  </thead>\n",
       "  <tbody>\n",
       "    <tr>\n",
       "      <th>0</th>\n",
       "      <td>1</td>\n",
       "      <td>1</td>\n",
       "      <td>1</td>\n",
       "      <td>0</td>\n",
       "      <td>0</td>\n",
       "    </tr>\n",
       "    <tr>\n",
       "      <th>1</th>\n",
       "      <td>1</td>\n",
       "      <td>1</td>\n",
       "      <td>1</td>\n",
       "      <td>1</td>\n",
       "      <td>0</td>\n",
       "    </tr>\n",
       "    <tr>\n",
       "      <th>5</th>\n",
       "      <td>3</td>\n",
       "      <td>3</td>\n",
       "      <td>2</td>\n",
       "      <td>1</td>\n",
       "      <td>0</td>\n",
       "    </tr>\n",
       "    <tr>\n",
       "      <th>7</th>\n",
       "      <td>1</td>\n",
       "      <td>2</td>\n",
       "      <td>1</td>\n",
       "      <td>0</td>\n",
       "      <td>0</td>\n",
       "    </tr>\n",
       "    <tr>\n",
       "      <th>13</th>\n",
       "      <td>3</td>\n",
       "      <td>2</td>\n",
       "      <td>1</td>\n",
       "      <td>0</td>\n",
       "      <td>0</td>\n",
       "    </tr>\n",
       "  </tbody>\n",
       "</table>\n",
       "</div>"
      ],
      "text/plain": [
       "    outlook  temp  hum  windy  play\n",
       "0         1     1    1      0     0\n",
       "1         1     1    1      1     0\n",
       "5         3     3    2      1     0\n",
       "7         1     2    1      0     0\n",
       "13        3     2    1      0     0"
      ]
     },
     "execution_count": 50,
     "metadata": {},
     "output_type": "execute_result"
    }
   ],
   "source": [
    "playdf [ playdf[\"play\" ] ==0     ]"
   ]
  },
  {
   "cell_type": "code",
   "execution_count": 51,
   "metadata": {},
   "outputs": [
    {
     "data": {
      "text/plain": [
       "0"
      ]
     },
     "execution_count": 51,
     "metadata": {},
     "output_type": "execute_result"
    }
   ],
   "source": [
    "bayesian(playdf,pd.Series([1,1,1,0]))"
   ]
  },
  {
   "cell_type": "code",
   "execution_count": 52,
   "metadata": {},
   "outputs": [
    {
     "data": {
      "text/plain": [
       "1"
      ]
     },
     "execution_count": 52,
     "metadata": {},
     "output_type": "execute_result"
    }
   ],
   "source": [
    "bayesian(playdf,pd.Series([2,2,1,1]))"
   ]
  },
  {
   "cell_type": "code",
   "execution_count": 53,
   "metadata": {},
   "outputs": [
    {
     "data": {
      "text/plain": [
       "[{1: {0: 0.6, 1: 0.2222222222222222},\n",
       "  2: {0: 0.0, 1: 0.4444444444444444},\n",
       "  3: {0: 0.4, 1: 0.3333333333333333}},\n",
       " {1: {0: 0.4, 1: 0.2222222222222222},\n",
       "  2: {0: 0.4, 1: 0.4444444444444444},\n",
       "  3: {0: 0.2, 1: 0.3333333333333333}},\n",
       " {1: {0: 0.8, 1: 0.3333333333333333}, 2: {0: 0.2, 1: 0.6666666666666666}},\n",
       " {0: {0: 0.6, 1: 0.6666666666666666}, 1: {0: 0.4, 1: 0.3333333333333333}},\n",
       " {},\n",
       " {},\n",
       " {},\n",
       " {}]"
      ]
     },
     "execution_count": 53,
     "metadata": {},
     "output_type": "execute_result"
    }
   ],
   "source": [
    "theP"
   ]
  },
  {
   "cell_type": "code",
   "execution_count": null,
   "metadata": {},
   "outputs": [],
   "source": []
  }
 ],
 "metadata": {
  "kernelspec": {
   "display_name": "Python 3",
   "language": "python",
   "name": "python3"
  },
  "language_info": {
   "codemirror_mode": {
    "name": "ipython",
    "version": 3
   },
   "file_extension": ".py",
   "mimetype": "text/x-python",
   "name": "python",
   "nbconvert_exporter": "python",
   "pygments_lexer": "ipython3",
   "version": "3.5.5"
  }
 },
 "nbformat": 4,
 "nbformat_minor": 2
}
